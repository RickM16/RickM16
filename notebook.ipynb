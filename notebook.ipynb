{
 "cells": [
  {
   "cell_type": "code",
   "execution_count": 1,
   "metadata": {},
   "outputs": [],
   "source": [
    "import json\n",
    "import requests\n",
    "import pandas as pd\n",
    "import requests"
   ]
  },
  {
   "cell_type": "code",
   "execution_count": 2,
   "metadata": {},
   "outputs": [
    {
     "name": "stdout",
     "output_type": "stream",
     "text": [
      "1 found! Appending stats\n",
      "2 found! Appending stats\n",
      "3 found! Appending stats\n",
      "4 found! Appending stats\n",
      "5 found! Appending stats\n",
      "6 found! Appending stats\n"
     ]
    }
   ],
   "source": [
    "# List of character\n",
    "search_films = ['1','2','3', '4','5','6']\n",
    "\n",
    "# Set url for API\n",
    "url = 'https://swapi.dev/api/films/'\n",
    "\n",
    "# Set empty lists to hold characters height and mass\n",
    "Title = []\n",
    "Episode_id = []\n",
    "Director = []\n",
    "Release_date = []\n",
    "opening_crawl = []\n",
    "\n",
    "# Loop through each character\n",
    "for film in search_films:\n",
    "    \n",
    "    # Create search query, make request and store in json\n",
    "    query = url + film\n",
    "    response = requests.get(query)\n",
    "    response_json = response.json()\n",
    "    \n",
    "    # Try to grab the height and mass of characters if they are available in the Star Wars API\n",
    "    try:\n",
    "        Title.append(response_json['title'])\n",
    "        Episode_id.append(response_json['episode_id'])\n",
    "        Director.append(response_json['director'])\n",
    "        Release_date.append(response_json['release_date'])\n",
    "        opening_crawl.append(response_json['opening_crawl'])\n",
    "        print(f\"{film} found! Appending stats\")\n",
    "        \n",
    "    # Handle exceptions for a character that is not available in the Star Wars API\n",
    "    except:\n",
    "        # Append null values\n",
    "        print(\"Film not found\")\n",
    "        pass"
   ]
  },
  {
   "cell_type": "code",
   "execution_count": 3,
   "metadata": {},
   "outputs": [
    {
     "data": {
      "text/html": [
       "<div>\n",
       "<style scoped>\n",
       "    .dataframe tbody tr th:only-of-type {\n",
       "        vertical-align: middle;\n",
       "    }\n",
       "\n",
       "    .dataframe tbody tr th {\n",
       "        vertical-align: top;\n",
       "    }\n",
       "\n",
       "    .dataframe thead th {\n",
       "        text-align: right;\n",
       "    }\n",
       "</style>\n",
       "<table border=\"1\" class=\"dataframe\">\n",
       "  <thead>\n",
       "    <tr style=\"text-align: right;\">\n",
       "      <th></th>\n",
       "      <th>Title</th>\n",
       "      <th>Episode_id</th>\n",
       "      <th>Director</th>\n",
       "      <th>Release_date</th>\n",
       "      <th>opening_crawl</th>\n",
       "    </tr>\n",
       "  </thead>\n",
       "  <tbody>\n",
       "    <tr>\n",
       "      <th>0</th>\n",
       "      <td>A New Hope</td>\n",
       "      <td>4</td>\n",
       "      <td>George Lucas</td>\n",
       "      <td>1977-05-25</td>\n",
       "      <td>It is a period of civil war.\\r\\nRebel spaceshi...</td>\n",
       "    </tr>\n",
       "    <tr>\n",
       "      <th>1</th>\n",
       "      <td>The Empire Strikes Back</td>\n",
       "      <td>5</td>\n",
       "      <td>Irvin Kershner</td>\n",
       "      <td>1980-05-17</td>\n",
       "      <td>It is a dark time for the\\r\\nRebellion. Althou...</td>\n",
       "    </tr>\n",
       "    <tr>\n",
       "      <th>2</th>\n",
       "      <td>Return of the Jedi</td>\n",
       "      <td>6</td>\n",
       "      <td>Richard Marquand</td>\n",
       "      <td>1983-05-25</td>\n",
       "      <td>Luke Skywalker has returned to\\r\\nhis home pla...</td>\n",
       "    </tr>\n",
       "    <tr>\n",
       "      <th>3</th>\n",
       "      <td>The Phantom Menace</td>\n",
       "      <td>1</td>\n",
       "      <td>George Lucas</td>\n",
       "      <td>1999-05-19</td>\n",
       "      <td>Turmoil has engulfed the\\r\\nGalactic Republic....</td>\n",
       "    </tr>\n",
       "    <tr>\n",
       "      <th>4</th>\n",
       "      <td>Attack of the Clones</td>\n",
       "      <td>2</td>\n",
       "      <td>George Lucas</td>\n",
       "      <td>2002-05-16</td>\n",
       "      <td>There is unrest in the Galactic\\r\\nSenate. Sev...</td>\n",
       "    </tr>\n",
       "    <tr>\n",
       "      <th>5</th>\n",
       "      <td>Revenge of the Sith</td>\n",
       "      <td>3</td>\n",
       "      <td>George Lucas</td>\n",
       "      <td>2005-05-19</td>\n",
       "      <td>War! The Republic is crumbling\\r\\nunder attack...</td>\n",
       "    </tr>\n",
       "  </tbody>\n",
       "</table>\n",
       "</div>"
      ],
      "text/plain": [
       "                     Title  Episode_id          Director Release_date  \\\n",
       "0               A New Hope           4      George Lucas   1977-05-25   \n",
       "1  The Empire Strikes Back           5    Irvin Kershner   1980-05-17   \n",
       "2       Return of the Jedi           6  Richard Marquand   1983-05-25   \n",
       "3       The Phantom Menace           1      George Lucas   1999-05-19   \n",
       "4     Attack of the Clones           2      George Lucas   2002-05-16   \n",
       "5      Revenge of the Sith           3      George Lucas   2005-05-19   \n",
       "\n",
       "                                       opening_crawl  \n",
       "0  It is a period of civil war.\\r\\nRebel spaceshi...  \n",
       "1  It is a dark time for the\\r\\nRebellion. Althou...  \n",
       "2  Luke Skywalker has returned to\\r\\nhis home pla...  \n",
       "3  Turmoil has engulfed the\\r\\nGalactic Republic....  \n",
       "4  There is unrest in the Galactic\\r\\nSenate. Sev...  \n",
       "5  War! The Republic is crumbling\\r\\nunder attack...  "
      ]
     },
     "execution_count": 3,
     "metadata": {},
     "output_type": "execute_result"
    }
   ],
   "source": [
    "# Create DataFrame\n",
    "starwars_films = pd.DataFrame({\n",
    "    'Title' : Title,\n",
    "    'Episode_id' : Episode_id,\n",
    "    'Director' : Director,\n",
    "    'Release_date' : Release_date,\n",
    "    'opening_crawl' : opening_crawl,\n",
    "})\n",
    "starwars_films\n"
   ]
  },
  {
   "cell_type": "code",
   "execution_count": 31,
   "metadata": {},
   "outputs": [],
   "source": [
    "# Dependencies\n",
    "from config import api_key\n",
    "\n",
    "url = f\"http://www.omdbapi.com/?apikey={api_key}&t=star+wars&y=\""
   ]
  },
  {
   "cell_type": "code",
   "execution_count": 40,
   "metadata": {},
   "outputs": [
    {
     "name": "stdout",
     "output_type": "stream",
     "text": [
      "The rating of Star Wars: Episode I - The Phantom Menace was PG.\n"
     ]
    }
   ],
   "source": [
    "# What was the movie Gladiator rated?\n",
    "movie = requests.get(url + \"1999\").json()\n",
    "print(f'The rating of {movie[\"Title\"]} was {movie[\"Rated\"]}.')"
   ]
  },
  {
   "cell_type": "code",
   "execution_count": 41,
   "metadata": {},
   "outputs": [
    {
     "name": "stdout",
     "output_type": "stream",
     "text": [
      "The plot of Star Wars: Episode I - The Phantom Menace was: Two Jedi escape a hostile blockade to find allies and come across a young boy who may bring balance to the Force, but the long dormant Sith resurface to claim their original glory.\n"
     ]
    }
   ],
   "source": [
    "# What was the plot of the movie Sing?\n",
    "movie = requests.get(url + \"1999\").json()\n",
    "print(f'The plot of {movie[\"Title\"]} was: {movie[\"Plot\"]}')"
   ]
  },
  {
   "cell_type": "code",
   "execution_count": 38,
   "metadata": {},
   "outputs": [
    {
     "name": "stdout",
     "output_type": "stream",
     "text": [
      "The Director of Star Wars: Episode II - Attack of the Clones was: George Lucas\n"
     ]
    }
   ],
   "source": [
    "# What was the plot of the movie Sing?\n",
    "movie = requests.get(url + \"2002\").json()\n",
    "print(f'The Director of {movie[\"Title\"]} was: {movie[\"Director\"]}')"
   ]
  },
  {
   "cell_type": "code",
   "execution_count": 49,
   "metadata": {},
   "outputs": [
    {
     "name": "stdout",
     "output_type": "stream",
     "text": [
      "Film not found\n",
      "Film not found\n",
      "Film not found\n",
      "Film not found\n",
      "Film not found\n",
      "Film not found\n"
     ]
    }
   ],
   "source": [
    "# List of character\n",
    "search_year = ['1977','1980','1983', '1999','2002','2005']\n",
    "\n",
    "# Set empty lists to hold characters height and mass\n",
    "Title = []\n",
    "Actors = []\n",
    "Genre = []\n",
    "Metascore = []\n",
    "Awards = []\n",
    "BoxOffice = []\n",
    "Runtime = [] \n",
    "DVD_Release_Date = []\n",
    "\n",
    "# Loop through each character\n",
    "for year in search_year:\n",
    "    \n",
    "    # Create search query, make request and store in json\n",
    "    query = url + year\n",
    "    response = requests.get(query)\n",
    "    response_json = response.json()\n",
    "    \n",
    "    # Try to grab the height and mass of characters if they are available in the Star Wars API\n",
    "    try:\n",
    "        Title.append(response_json['Title'])\n",
    "        Actors.append(response_json['Actors'])\n",
    "        Genre.append(response_json['Genre'])\n",
    "        Metascore.append(response_json['Metascore'])\n",
    "        Awards.append(response_json['Awards'])\n",
    "        Box_Office.append(response_json['BoxOffice'])\n",
    "        Runtime.append(response_json['Runtime'])\n",
    "        DVD_Release_Date.append(response_json['DVD'])\n",
    "        print(f\"{film} found! Appending stats\")\n",
    "        \n",
    "    # Handle exceptions for a character that is not available in the Star Wars API\n",
    "    except:\n",
    "        # Append null values\n",
    "        print(\"Film not found\")\n",
    "        pass"
   ]
  },
  {
   "cell_type": "code",
   "execution_count": 43,
   "metadata": {},
   "outputs": [
    {
     "name": "stdout",
     "output_type": "stream",
     "text": [
      "http://www.omdbapi.com/?apikey=3ef20ef4&t=star+wars&y=\n"
     ]
    }
   ],
   "source": [
    "print(url)"
   ]
  },
  {
   "cell_type": "code",
   "execution_count": null,
   "metadata": {},
   "outputs": [],
   "source": []
  }
 ],
 "metadata": {
  "kernelspec": {
   "display_name": "Python 3 (ipykernel)",
   "language": "python",
   "name": "python3"
  },
  "language_info": {
   "codemirror_mode": {
    "name": "ipython",
    "version": 3
   },
   "file_extension": ".py",
   "mimetype": "text/x-python",
   "name": "python",
   "nbconvert_exporter": "python",
   "pygments_lexer": "ipython3",
   "version": "3.9.7"
  },
  "latex_envs": {
   "LaTeX_envs_menu_present": true,
   "autoclose": false,
   "autocomplete": true,
   "bibliofile": "biblio.bib",
   "cite_by": "apalike",
   "current_citInitial": 1,
   "eqLabelWithNumbers": true,
   "eqNumInitial": 1,
   "hotkeys": {
    "equation": "Ctrl-E",
    "itemize": "Ctrl-I"
   },
   "labels_anchors": false,
   "latex_user_defs": false,
   "report_style_numbering": false,
   "user_envs_cfg": false
  },
  "vscode": {
   "interpreter": {
    "hash": "e2e829c83ef6dd43dbd46d55fc3d4761bb7ca0d5ea2a5d5381f4830322bfca14"
   }
  }
 },
 "nbformat": 4,
 "nbformat_minor": 4
}
